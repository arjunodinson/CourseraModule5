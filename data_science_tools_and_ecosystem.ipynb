{
 "cells": [
  {
   "cell_type": "markdown",
   "id": "9fca4e26",
   "metadata": {},
   "source": [
    "# Data Science Tools and Ecosystem"
   ]
  },
  {
   "cell_type": "markdown",
   "id": "14f643a8",
   "metadata": {},
   "source": [
    "In this notebook, we will explore some of the key tools, languages, and concepts used in data science."
   ]
  },
  {
   "cell_type": "markdown",
   "id": "664cf967",
   "metadata": {},
   "source": [
    "## Data Science Languages\n",
    "- Python\n",
    "- R\n",
    "- SQL\n",
    "- Julia\n",
    "- Scala"
   ]
  },
  {
   "cell_type": "markdown",
   "id": "abfdb53d",
   "metadata": {},
   "source": [
    "## Data Science Libraries\n",
    "- Pandas\n",
    "- NumPy\n",
    "- Matplotlib\n",
    "- Seaborn\n",
    "- Scikit-learn\n",
    "- TensorFlow"
   ]
  },
  {
   "cell_type": "markdown",
   "id": "52803508",
   "metadata": {},
   "source": [
    "## Data Science Tools Table\n",
    "\n",
    "| Tool           | Category       |\n",
    "|----------------|----------------|\n",
    "| Jupyter Notebook | IDE/Notebook |\n",
    "| RStudio         | IDE           |\n",
    "| Apache Spark    | Big Data Tool |\n",
    "| TensorFlow      | Deep Learning |\n",
    "| Power BI        | Visualization |"
   ]
  },
  {
   "cell_type": "markdown",
   "id": "4b0d0234",
   "metadata": {},
   "source": [
    "## Examples of Arithmetic Expressions"
   ]
  },
  {
   "cell_type": "code",
   "execution_count": null,
   "id": "65ee73b5",
   "metadata": {},
   "outputs": [],
   "source": [
    "# This is a simple arithmetic expression\n",
    "(3 * 4) + 5"
   ]
  },
  {
   "cell_type": "code",
   "execution_count": null,
   "id": "37ec87be",
   "metadata": {},
   "outputs": [],
   "source": [
    "# Convert 200 minutes to hours\n",
    "200 / 60"
   ]
  },
  {
   "cell_type": "markdown",
   "id": "48230cb4",
   "metadata": {},
   "source": [
    "## Objectives\n",
    "- List popular languages for Data Science\n",
    "- List commonly used libraries\n",
    "- Demonstrate basic arithmetic operations\n",
    "- Convert time using Python"
   ]
  },
  {
   "cell_type": "markdown",
   "id": "8570f4e2",
   "metadata": {},
   "source": [
    "**Author:** Arjun Roy"
   ]
  }
 ],
 "metadata": {},
 "nbformat": 4,
 "nbformat_minor": 5
}
